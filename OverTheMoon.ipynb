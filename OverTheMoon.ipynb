{
 "cells": [
  {
   "cell_type": "code",
   "execution_count": 35,
   "metadata": {},
   "outputs": [
    {
     "name": "stdout",
     "output_type": "stream",
     "text": [
      "375.03598999999997\n"
     ]
    }
   ],
   "source": [
    "import pandas as pd\n",
    "rock_samples = pd.read_csv('data/rocksamples.csv')\n",
    "\n",
    "rock_samples['Weight (g)'] = rock_samples['Weight (g)'].apply(lambda x : x * 0.001)\n",
    "rock_samples.rename(columns={'Weight (g)':'Weight (kg)'}, inplace=True)\n",
    "rock_samples.head()\n",
    "\n",
    "missions = pd.DataFrame()\n",
    "missions['Mission'] = rock_samples['Mission'].unique()\n",
    "missions.head()\n",
    "\n",
    "sample_total_weight = rock_samples.groupby('Mission')['Weight (kg)'].sum()\n",
    "missions = pd.merge(missions, sample_total_weight, on='Mission')\n",
    "missions.rename(columns={'Weight (kg)':'Sample weight (kg)'}, inplace=True)\n",
    "missions\n",
    "\n",
    "missions['Weight diff'] = missions ['Sample weight (kg)'].diff()\n",
    "missions\n",
    "\n",
    "missions['Weight diff'] = missions['Weight diff'].fillna(value=0)\n",
    "missions\n",
    "\n",
    "missions['Lunar module (LM)'] = ['Eagle (LM-5)', 'Intrepid (LM-6)', 'Antares (LM-8)', 'Falcon (LM-10)', 'Orion (LM-11)', 'Challenger (LM-12)']\n",
    "missions['LM mass (kg)'] = [15103, 15235, 15264, 16430, 16445, 16456]\n",
    "missions['LM mass diff'] = missions['LM mass (kg)'].diff()\n",
    "missions['LM mass diff'] = missions['LM mass diff'].fillna(value=0)\n",
    "\n",
    "missions['Command module (CM)'] = ['Columbia (CSM-107)', 'Yankee Clipper (CM-108)', 'Kitty Hawk (CM-110)', 'Endeavor (CM-112)', 'Casper (CM-113)', 'America (CM-114)']\n",
    "missions['CM mass (kg)'] = [5560, 5609, 5758, 5875, 5840, 5960]\n",
    "missions['CM mass diff'] = missions['CM mass (kg)'].diff()\n",
    "missions['CM mass diff'] = missions['CM mass diff'].fillna(value=0)\n",
    "\n",
    "missions['Total weight (kg)'] = missions['LM mass (kg)'] + missions['CM mass (kg)']\n",
    "missions['Total weight diff'] = missions['LM mass diff'] + missions['CM mass diff']\n",
    "\n",
    "missions['Name'] = ['John Starks','Lebron James','Russell Westbrook','Nagato','Murasaki','AbuNENE']\n",
    "\n",
    "# Sample-to-weight ratio\n",
    "saturnVPayload = 43500\n",
    "missions['Crewed area : Payload'] = missions['Total weight (kg)'] / saturnVPayload\n",
    "missions['Sample : Crewed area'] = missions['Sample weight (kg)'] / missions['Total weight (kg)']\n",
    "missions['Sample : Payload'] = missions['Sample weight (kg)'] / saturnVPayload\n",
    "missions\n",
    "missions\n",
    "\n",
    "crewedArea_payload_ratio = missions['Crewed area : Payload'].mean()\n",
    "sample_crewedArea_ratio = missions['Sample : Crewed area'].mean()\n",
    "sample_payload_ratio = missions['Sample : Payload'].mean()\n",
    "#print(crewedArea_payload_ratio)\n",
    "#print(sample_crewedArea_ratio)\n",
    "#print(sample_payload_ratio)\n",
    "\n",
    "artemis_crewedArea = 26520\n",
    "artemis_mission = pd.DataFrame({'Mission':['artemis1','artemis1b','artemis2'],\n",
    "                                 'Total weight (kg)':[artemis_crewedArea,artemis_crewedArea,artemis_crewedArea],\n",
    "                                 'Payload (kg)':[26988, 37965, 42955]})\n",
    "\n",
    "rock_samples['Remaining (kg)'] = rock_samples['Weight (kg)'] * (rock_samples['Pristine (%)'] * .01)\n",
    "rock_samples.describe()\n",
    "\n",
    "low_samples = rock_samples.loc[(rock_samples['Weight (kg)'] >= .16) & (rock_samples['Pristine (%)'] <= 50)]\n",
    "\n",
    "print(sample_total_weight.sum())\n",
    "\n"
   ]
  }
 ],
 "metadata": {
  "kernelspec": {
   "display_name": "Python 3",
   "language": "python",
   "name": "python3"
  },
  "language_info": {
   "codemirror_mode": {
    "name": "ipython",
    "version": 3
   },
   "file_extension": ".py",
   "mimetype": "text/x-python",
   "name": "python",
   "nbconvert_exporter": "python",
   "pygments_lexer": "ipython3",
   "version": "3.10.8"
  },
  "orig_nbformat": 4
 },
 "nbformat": 4,
 "nbformat_minor": 2
}
